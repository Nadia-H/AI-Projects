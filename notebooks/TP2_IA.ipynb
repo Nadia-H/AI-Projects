{
 "cells": [
  {
   "cell_type": "code",
   "execution_count": 20,
   "metadata": {
    "id": "WKf7GYxJg07J"
   },
   "outputs": [],
   "source": []
  },
  {
   "cell_type": "markdown",
   "metadata": {
    "id": "33KZAep9haqH"
   },
   "source": [
    "***TP*** ***Supervised*** ***learning***"
   ]
  },
  {
   "cell_type": "markdown",
   "metadata": {
    "id": "6DrjP7-KhtWq"
   },
   "source": [
    "## **1.Importation des bibliothèques**\n"
   ]
  },
  {
   "cell_type": "code",
   "execution_count": 21,
   "metadata": {
    "id": "oUV2wNINh3Zw"
   },
   "outputs": [],
   "source": [
    "import numpy as np\n",
    "np.set_printoptions(threshold=10000, suppress=True)\n",
    "import pandas as pd\n",
    "import warnings\n",
    "import matplotlib.pyplot as plt\n",
    "warnings.filterwarnings('ignore')\n"
   ]
  },
  {
   "cell_type": "markdown",
   "metadata": {
    "id": "HACN1st-mmgt"
   },
   "source": [
    "## **2. Chargement des données et Analyse des données**"
   ]
  },
  {
   "cell_type": "code",
   "execution_count": 22,
   "metadata": {
    "colab": {
     "base_uri": "https://localhost:8080/",
     "height": 379
    },
    "id": "BGswq0cQlwNt",
    "outputId": "2cf2643a-07d4-49cb-d0a6-cd12c6e71ad8"
   },
   "outputs": [
    {
     "data": {
      "text/plain": "   CustomerId  CreditScore  Gender  Age  Tenure    Balance  NumOfProducts  \\\n0    15634602          619       1   42       2       0.00              1   \n1    15647311          608       1   41       1   83807.86              1   \n2    15619304          502       1   42       8  159660.80              3   \n3    15701354          699       1   39       1       0.00              2   \n4    15737888          850       1   43       2  125510.82              1   \n5    15574012          645       0   44       8  113755.78              2   \n6    15592531          822       0   50       7       0.00              2   \n7    15656148          376       1   29       4  115046.74              4   \n8    15792365          501       0   44       4  142051.07              2   \n9    15592389          684       0   27       2  134603.88              1   \n\n   HasCrCard  IsActiveMember  EstimatedSalary  Exited  \n0          1               1        101348.88       1  \n1          0               1        112542.58       0  \n2          1               0        113931.57       1  \n3          0               0         93826.63       0  \n4          1               1         79084.10       0  \n5          1               0        149756.71       1  \n6          1               1         10062.80       0  \n7          1               0        119346.88       1  \n8          0               1         74940.50       0  \n9          1               1         71725.73       0  ",
      "text/html": "<div>\n<style scoped>\n    .dataframe tbody tr th:only-of-type {\n        vertical-align: middle;\n    }\n\n    .dataframe tbody tr th {\n        vertical-align: top;\n    }\n\n    .dataframe thead th {\n        text-align: right;\n    }\n</style>\n<table border=\"1\" class=\"dataframe\">\n  <thead>\n    <tr style=\"text-align: right;\">\n      <th></th>\n      <th>CustomerId</th>\n      <th>CreditScore</th>\n      <th>Gender</th>\n      <th>Age</th>\n      <th>Tenure</th>\n      <th>Balance</th>\n      <th>NumOfProducts</th>\n      <th>HasCrCard</th>\n      <th>IsActiveMember</th>\n      <th>EstimatedSalary</th>\n      <th>Exited</th>\n    </tr>\n  </thead>\n  <tbody>\n    <tr>\n      <th>0</th>\n      <td>15634602</td>\n      <td>619</td>\n      <td>1</td>\n      <td>42</td>\n      <td>2</td>\n      <td>0.00</td>\n      <td>1</td>\n      <td>1</td>\n      <td>1</td>\n      <td>101348.88</td>\n      <td>1</td>\n    </tr>\n    <tr>\n      <th>1</th>\n      <td>15647311</td>\n      <td>608</td>\n      <td>1</td>\n      <td>41</td>\n      <td>1</td>\n      <td>83807.86</td>\n      <td>1</td>\n      <td>0</td>\n      <td>1</td>\n      <td>112542.58</td>\n      <td>0</td>\n    </tr>\n    <tr>\n      <th>2</th>\n      <td>15619304</td>\n      <td>502</td>\n      <td>1</td>\n      <td>42</td>\n      <td>8</td>\n      <td>159660.80</td>\n      <td>3</td>\n      <td>1</td>\n      <td>0</td>\n      <td>113931.57</td>\n      <td>1</td>\n    </tr>\n    <tr>\n      <th>3</th>\n      <td>15701354</td>\n      <td>699</td>\n      <td>1</td>\n      <td>39</td>\n      <td>1</td>\n      <td>0.00</td>\n      <td>2</td>\n      <td>0</td>\n      <td>0</td>\n      <td>93826.63</td>\n      <td>0</td>\n    </tr>\n    <tr>\n      <th>4</th>\n      <td>15737888</td>\n      <td>850</td>\n      <td>1</td>\n      <td>43</td>\n      <td>2</td>\n      <td>125510.82</td>\n      <td>1</td>\n      <td>1</td>\n      <td>1</td>\n      <td>79084.10</td>\n      <td>0</td>\n    </tr>\n    <tr>\n      <th>5</th>\n      <td>15574012</td>\n      <td>645</td>\n      <td>0</td>\n      <td>44</td>\n      <td>8</td>\n      <td>113755.78</td>\n      <td>2</td>\n      <td>1</td>\n      <td>0</td>\n      <td>149756.71</td>\n      <td>1</td>\n    </tr>\n    <tr>\n      <th>6</th>\n      <td>15592531</td>\n      <td>822</td>\n      <td>0</td>\n      <td>50</td>\n      <td>7</td>\n      <td>0.00</td>\n      <td>2</td>\n      <td>1</td>\n      <td>1</td>\n      <td>10062.80</td>\n      <td>0</td>\n    </tr>\n    <tr>\n      <th>7</th>\n      <td>15656148</td>\n      <td>376</td>\n      <td>1</td>\n      <td>29</td>\n      <td>4</td>\n      <td>115046.74</td>\n      <td>4</td>\n      <td>1</td>\n      <td>0</td>\n      <td>119346.88</td>\n      <td>1</td>\n    </tr>\n    <tr>\n      <th>8</th>\n      <td>15792365</td>\n      <td>501</td>\n      <td>0</td>\n      <td>44</td>\n      <td>4</td>\n      <td>142051.07</td>\n      <td>2</td>\n      <td>0</td>\n      <td>1</td>\n      <td>74940.50</td>\n      <td>0</td>\n    </tr>\n    <tr>\n      <th>9</th>\n      <td>15592389</td>\n      <td>684</td>\n      <td>0</td>\n      <td>27</td>\n      <td>2</td>\n      <td>134603.88</td>\n      <td>1</td>\n      <td>1</td>\n      <td>1</td>\n      <td>71725.73</td>\n      <td>0</td>\n    </tr>\n  </tbody>\n</table>\n</div>"
     },
     "execution_count": 22,
     "metadata": {},
     "output_type": "execute_result"
    }
   ],
   "source": [
    "churn = pd.read_csv(r'c:\\Users\\asus\\Documents\\GénieInfo\\AI\\Churn_Modelling.csv',sep = ',', header=0)\n",
    "churn.head(10)"
   ]
  },
  {
   "cell_type": "code",
   "execution_count": 23,
   "metadata": {
    "colab": {
     "base_uri": "https://localhost:8080/"
    },
    "id": "kO7W8itTnJg9",
    "outputId": "17d36a40-9c64-4f74-868a-6637b2a50e6b"
   },
   "outputs": [
    {
     "data": {
      "text/plain": "(10000, 11)"
     },
     "execution_count": 23,
     "metadata": {},
     "output_type": "execute_result"
    }
   ],
   "source": [
    "type(churn)\n",
    "churn.shape"
   ]
  },
  {
   "cell_type": "code",
   "execution_count": 24,
   "metadata": {
    "id": "xA4NC2r_oNbC"
   },
   "outputs": [],
   "source": [
    "X = churn.iloc[:,1:10].values\n",
    "Y = churn.iloc[:,10].values"
   ]
  },
  {
   "cell_type": "code",
   "execution_count": 25,
   "metadata": {
    "colab": {
     "base_uri": "https://localhost:8080/"
    },
    "id": "WCa4BNpp2VFD",
    "outputId": "2b5e07c4-6272-43dd-a52d-7eb33912bfb7"
   },
   "outputs": [
    {
     "data": {
      "text/plain": "(10000, 9)"
     },
     "execution_count": 25,
     "metadata": {},
     "output_type": "execute_result"
    }
   ],
   "source": [
    "X.shape"
   ]
  },
  {
   "cell_type": "code",
   "execution_count": 26,
   "metadata": {
    "colab": {
     "base_uri": "https://localhost:8080/"
    },
    "id": "QaCztqYh2YAr",
    "outputId": "69b78e69-5969-425a-94bf-5ea367cee635"
   },
   "outputs": [
    {
     "data": {
      "text/plain": "(10000,)"
     },
     "execution_count": 26,
     "metadata": {},
     "output_type": "execute_result"
    }
   ],
   "source": [
    "Y.shape"
   ]
  },
  {
   "cell_type": "markdown",
   "metadata": {
    "id": "IFASlNx4pW15"
   },
   "source": [
    "Visualisation des données avec matplotlib:"
   ]
  },
  {
   "cell_type": "code",
   "execution_count": 27,
   "metadata": {
    "colab": {
     "base_uri": "https://localhost:8080/",
     "height": 265
    },
    "id": "uOk6YKx0pOpR",
    "outputId": "61e99101-10e2-45ea-e53e-ff4238eb0fd3"
   },
   "outputs": [
    {
     "data": {
      "text/plain": "<Figure size 432x288 with 1 Axes>",
      "image/png": "[encoded data removed]"
     },
     "metadata": {
      "needs_background": "light"
     },
     "output_type": "display_data"
    }
   ],
   "source": [
    "plt.hist(Y)\n",
    "plt.show()"
   ]
  },
  {
   "cell_type": "code",
   "execution_count": 28,
   "metadata": {
    "colab": {
     "base_uri": "https://localhost:8080/"
    },
    "id": "qvNZUhTHqdxF",
    "outputId": "675ef875-cb35-40d4-dbbd-4a6828b3c6a3"
   },
   "outputs": [
    {
     "name": "stdout",
     "output_type": "stream",
     "text": [
      "Excited : 0.204 et Non : 0.796\n"
     ]
    }
   ],
   "source": [
    "ep = np.sum(Y == 1)/len(Y)\n",
    "nep = np.sum(Y == 0)/len(Y)\n",
    "print('Excited : {0:.3f} et Non : {1:.3f}'.format(ep,nep))\n"
   ]
  },
  {
   "cell_type": "markdown",
   "metadata": {
    "id": "hgh2CDOKrvdJ"
   },
   "source": [
    "# **3. Séparation des données**\n"
   ]
  },
  {
   "cell_type": "code",
   "execution_count": 29,
   "metadata": {
    "id": "bGV_57RmsCAn"
   },
   "outputs": [],
   "source": [
    "from sklearn.model_selection import train_test_split\n",
    "\n",
    "from sklearn.tree import DecisionTreeClassifier\n",
    "from sklearn.metrics import confusion_matrix, accuracy_score, precision_score, recall_score\n",
    "from sklearn.preprocessing import StandardScaler, MinMaxScaler\n",
    "\n",
    "Xtrain, Xtest, Ytrain, Ytest = train_test_split(X, Y, test_size = 0.25, random_state = 1)"
   ]
  },
  {
   "cell_type": "code",
   "execution_count": 30,
   "metadata": {
    "colab": {
     "base_uri": "https://localhost:8080/"
    },
    "id": "ppA4f-Eb17rE",
    "outputId": "bba91a0f-ef9c-4c37-e1cc-667dc0bdc672"
   },
   "outputs": [
    {
     "data": {
      "text/plain": "(7500, 9)"
     },
     "execution_count": 30,
     "metadata": {},
     "output_type": "execute_result"
    }
   ],
   "source": [
    "Xtrain.shape"
   ]
  },
  {
   "cell_type": "code",
   "execution_count": 31,
   "metadata": {
    "colab": {
     "base_uri": "https://localhost:8080/"
    },
    "id": "Iln7FL4z2B-8",
    "outputId": "6c60e9ee-b210-4279-9910-918e052eb0e0"
   },
   "outputs": [
    {
     "data": {
      "text/plain": "(7500,)"
     },
     "execution_count": 31,
     "metadata": {},
     "output_type": "execute_result"
    }
   ],
   "source": [
    "Ytrain.shape"
   ]
  },
  {
   "cell_type": "code",
   "execution_count": 32,
   "metadata": {
    "colab": {
     "base_uri": "https://localhost:8080/"
    },
    "id": "7M0127mj2G1k",
    "outputId": "b5b2aa9a-1f1d-49a7-8a82-7e79b6e07db1"
   },
   "outputs": [
    {
     "data": {
      "text/plain": "(2500, 9)"
     },
     "execution_count": 32,
     "metadata": {},
     "output_type": "execute_result"
    }
   ],
   "source": [
    "Xtest.shape"
   ]
  },
  {
   "cell_type": "code",
   "execution_count": 33,
   "metadata": {
    "colab": {
     "base_uri": "https://localhost:8080/"
    },
    "id": "rLykbJet2I8E",
    "outputId": "968caaea-921a-41b2-8764-92632ce0405f"
   },
   "outputs": [
    {
     "data": {
      "text/plain": "(2500,)"
     },
     "execution_count": 33,
     "metadata": {},
     "output_type": "execute_result"
    }
   ],
   "source": [
    "Ytest.shape"
   ]
  },
  {
   "cell_type": "markdown",
   "metadata": {
    "id": "IAmRmRt_4G6r"
   },
   "source": [
    "# **4. Apprentissage et Evaluation de modeles(Algorithmes)**\n"
   ]
  },
  {
   "cell_type": "markdown",
   "metadata": {
    "id": "U7Vti9z3CGpU"
   },
   "source": [
    "# **////ALGORITHME 1**"
   ]
  },
  {
   "cell_type": "code",
   "execution_count": 34,
   "metadata": {
    "colab": {
     "base_uri": "https://localhost:8080/"
    },
    "id": "73V8meSI5uYC",
    "outputId": "09f2093f-7b91-4a28-e1b1-5c542129f852"
   },
   "outputs": [
    {
     "data": {
      "text/plain": "0.7848"
     },
     "execution_count": 34,
     "metadata": {},
     "output_type": "execute_result"
    }
   ],
   "source": [
    "DTC = DecisionTreeClassifier(random_state=0)\n",
    "DTC.fit(Xtrain, Ytrain)\n",
    "DTC.score(Xtest, Ytest)\n",
    " "
   ]
  },
  {
   "cell_type": "markdown",
   "metadata": {
    "id": "RwSLM81W8Kkv"
   },
   "source": [
    "Affichage du accuracy, recall et la matrice de confusion(vp|fp, fn|vn) :"
   ]
  },
  {
   "cell_type": "code",
   "execution_count": 35,
   "metadata": {
    "colab": {
     "base_uri": "https://localhost:8080/"
    },
    "id": "9snLhadU0ZZt",
    "outputId": "840be053-25f5-44f3-c564-227415c1e26b"
   },
   "outputs": [
    {
     "name": "stdout",
     "output_type": "stream",
     "text": [
      "Accuracy = 0.785\n",
      "Recall = 0.479\n",
      "\n",
      "Matrice de Confusion\n",
      "[[1713  267]\n",
      " [ 271  249]]\n",
      "\n"
     ]
    }
   ],
   "source": [
    "#def ClassifieurExcited (Xtrain, Xtest, Ytrain, Ytest):\n",
    "#print('DecisionTreeClassifier')\n",
    "#DT = DecisionTreeClassifier(random_state=0, criterion='entropy')\n",
    "DTC = DecisionTreeClassifier(random_state=0)\n",
    "DTC.fit(Xtrain, Ytrain)\n",
    "#DT.predict(Xtest)\n",
    "YDTC = DTC.predict(Xtest)#sans affecter cette ligne à une variable(YDT dans notre cas) elle nous renvoie le tableau des résultats\n",
    "print('Accuracy = {0:.3f}\\nRecall = {1:.3f}'.format(accuracy_score(Ytest, YDTC), recall_score(Ytest, YDTC)))\n",
    "print()\n",
    "print('Matrice de Confusion')\n",
    "print(confusion_matrix(Ytest, YDTC))\n",
    "print()\n"
   ]
  },
  {
   "cell_type": "markdown",
   "metadata": {
    "id": "5rX3OGNj8tbq"
   },
   "source": [
    "Calcul de la moyenne des deux mesure(Accuracy, Recall)"
   ]
  },
  {
   "cell_type": "code",
   "execution_count": 36,
   "metadata": {
    "colab": {
     "base_uri": "https://localhost:8080/"
    },
    "id": "P1NP3eqY9Alh",
    "outputId": "e53179ff-0f38-4f6e-dcdb-ce604a1ac5ac"
   },
   "outputs": [
    {
     "name": "stdout",
     "output_type": "stream",
     "text": [
      "Score Decision Tree = 0.632\n"
     ]
    }
   ],
   "source": [
    "accuracy11 = accuracy_score(Ytest, YDTC)\n",
    "recall11 = recall_score(Ytest, YDTC)\n",
    "scoreDTC1 = (accuracy11 + recall11)/2\n",
    "print(\"Score Decision Tree = {0:.3f}\".format(scoreDTC1))"
   ]
  },
  {
   "cell_type": "markdown",
   "metadata": {
    "id": "tN62cLbc-KLf"
   },
   "source": [
    "**Algorithme 1.2 Decision tree par la méthode de l'entropie(ID3)**\n"
   ]
  },
  {
   "cell_type": "code",
   "execution_count": 37,
   "metadata": {
    "colab": {
     "base_uri": "https://localhost:8080/"
    },
    "id": "pRD0WKqn-Nhg",
    "outputId": "5dca8057-3203-4615-e46a-60d008cf4db1"
   },
   "outputs": [
    {
     "data": {
      "text/plain": "0.7944"
     },
     "execution_count": 37,
     "metadata": {},
     "output_type": "execute_result"
    }
   ],
   "source": [
    "\n",
    "DTC2 = DecisionTreeClassifier(random_state=0, criterion='entropy')\n",
    "clf = DTC2.fit(Xtrain, Ytrain)\n",
    "clf.score(Xtest, Ytest)"
   ]
  },
  {
   "cell_type": "code",
   "execution_count": 38,
   "metadata": {
    "colab": {
     "base_uri": "https://localhost:8080/"
    },
    "id": "zmJD2Riq_Cg_",
    "outputId": "7b7f86e4-d3f7-4390-e7df-d66d6162e4e0"
   },
   "outputs": [
    {
     "name": "stdout",
     "output_type": "stream",
     "text": [
      "Accuracy = 0.794\n",
      "Recall = 0.527\n",
      "\n",
      "Matrice de Confusion\n",
      "[[1712  268]\n",
      " [ 246  274]]\n",
      "\n"
     ]
    }
   ],
   "source": [
    "YDTC2 = DTC2.predict(Xtest)\n",
    " \n",
    "print('Accuracy = {0:.3f}\\nRecall = {1:.3f}'.format(accuracy_score(Ytest, YDTC2), recall_score(Ytest, YDTC2)))\n",
    "print()\n",
    "\n",
    "print('Matrice de Confusion')\n",
    "print(confusion_matrix(Ytest, YDTC2))\n",
    "print()"
   ]
  },
  {
   "cell_type": "code",
   "execution_count": 39,
   "metadata": {
    "colab": {
     "base_uri": "https://localhost:8080/"
    },
    "id": "wo2dNQrSFET8",
    "outputId": "0149572f-3481-4fba-8d1c-35cc71a2259f"
   },
   "outputs": [
    {
     "name": "stdout",
     "output_type": "stream",
     "text": [
      "Score Decision Tree (méthode de l'entropie) = 0.661\n"
     ]
    }
   ],
   "source": [
    "accuracy12 = accuracy_score(Ytest, YDTC2)\n",
    "recall12 = recall_score(Ytest, YDTC2)\n",
    "scoreDTC2 = (accuracy12 + recall12)/2\n",
    "print(\"Score Decision Tree (méthode de l'entropie) = {0:.3f}\".format(scoreDTC2))"
   ]
  },
  {
   "cell_type": "markdown",
   "metadata": {
    "id": "uoSXho8I_xjm"
   },
   "source": [
    "# **///ALGORITHME 2 (K-Nearest Neigbors)**"
   ]
  },
  {
   "cell_type": "markdown",
   "metadata": {
    "id": "2R3uJHANtU_y"
   },
   "source": [
    "Importation de l'algorithme(depuis sklearn), appel à la fonction de l'algorithme"
   ]
  },
  {
   "cell_type": "code",
   "execution_count": 40,
   "metadata": {
    "id": "W4oFJmKA_0U9"
   },
   "outputs": [],
   "source": [
    "from sklearn import neighbors\n",
    "knc = neighbors.KNeighborsClassifier(3)\n",
    "knc.fit(Xtrain, Ytrain)\n",
    "YKNC = knc.predict(Xtest)"
   ]
  },
  {
   "cell_type": "markdown",
   "metadata": {
    "id": "P1EU0yEA_8dl"
   },
   "source": [
    "Affichage du accuracy, recall et la matrice de confusion(vp|fp, fn|vn) :"
   ]
  },
  {
   "cell_type": "code",
   "execution_count": 41,
   "metadata": {
    "colab": {
     "base_uri": "https://localhost:8080/"
    },
    "id": "5pqKttS6BflU",
    "outputId": "275debda-223a-4032-8a39-35a0e370c3a3"
   },
   "outputs": [
    {
     "name": "stdout",
     "output_type": "stream",
     "text": [
      "Accuracy = 0.728\n",
      "Recall = 0.129\n",
      "\n",
      "Matrice de Confusion\n",
      "[[1753  227]\n",
      " [ 453   67]]\n",
      "\n"
     ]
    }
   ],
   "source": [
    "print('Accuracy = {0:.3f}\\nRecall = {1:.3f}'.format(accuracy_score(Ytest, YKNC), recall_score(Ytest, YKNC)))\n",
    "print()\n",
    "print('Matrice de Confusion')\n",
    "print(confusion_matrix(Ytest, YKNC))\n",
    "print()"
   ]
  },
  {
   "cell_type": "markdown",
   "metadata": {
    "id": "YqPIxvKwDfoi"
   },
   "source": [
    "Calcul de la moyenne des deux mesure(Accuracy, Recall)"
   ]
  },
  {
   "cell_type": "code",
   "execution_count": 42,
   "metadata": {
    "colab": {
     "base_uri": "https://localhost:8080/"
    },
    "id": "GMbwyVxy_86-",
    "outputId": "e2fa06dc-d473-40f1-d1d9-44bd78bbc0a3"
   },
   "outputs": [
    {
     "name": "stdout",
     "output_type": "stream",
     "text": [
      "Score Decision Tree = 0.428\n"
     ]
    }
   ],
   "source": [
    "accuracy2 = accuracy_score(Ytest, YKNC)\n",
    "recall2 = recall_score(Ytest, YKNC)\n",
    "scoreKNC = (accuracy2 + recall2)/2\n",
    "print(\"Score Decision Tree = {0:.3f}\".format(scoreKNC))\n"
   ]
  },
  {
   "cell_type": "markdown",
   "metadata": {
    "id": "TVpHQlK6D0Zr"
   },
   "source": [
    "# **ALGORITHME 3 (Random Forest Classifier)**"
   ]
  },
  {
   "cell_type": "markdown",
   "metadata": {
    "id": "xv7lQzsksSG6"
   },
   "source": [
    "Importation de l'algorithme(depuis sklearn), appel à la fonction de l'algorithme et Calcul de la moyenne des deux mesure(Accuracy, Recall)"
   ]
  },
  {
   "cell_type": "markdown",
   "metadata": {
    "id": "t_zqWvWMsdUi"
   },
   "source": [
    "ET"
   ]
  },
  {
   "cell_type": "markdown",
   "metadata": {
    "id": "km-NO2R4saln"
   },
   "source": [
    "Affichage du accuracy, recall et la matrice de confusion(vp|fp, fn|vn) :"
   ]
  },
  {
   "cell_type": "code",
   "execution_count": 43,
   "metadata": {
    "colab": {
     "base_uri": "https://localhost:8080/"
    },
    "id": "_xCUtmRED14d",
    "outputId": "ae6f9882-26ba-4365-e0c7-bd59e2c91e21"
   },
   "outputs": [
    {
     "name": "stdout",
     "output_type": "stream",
     "text": [
      "Accuracy = 0.855\n",
      "Recall = 0.431\n",
      "\n",
      "Matrice de Confusion\n",
      "[[1913   67]\n",
      " [ 296  224]]\n",
      "\n"
     ]
    }
   ],
   "source": [
    "from sklearn.ensemble import RandomForestClassifier\n",
    "rfc = RandomForestClassifier(n_estimators = 1000, random_state = 42)\n",
    "rfc.fit(Xtrain, Ytrain)\n",
    "YRFC = rfc.predict(Xtest)\n",
    "print('Accuracy = {0:.3f}\\nRecall = {1:.3f}'.format(accuracy_score(Ytest, YRFC), recall_score(Ytest, YRFC)))\n",
    "print()\n",
    "\n",
    "print('Matrice de Confusion')\n",
    "print(confusion_matrix(Ytest, YRFC))\n",
    "print()"
   ]
  },
  {
   "cell_type": "markdown",
   "metadata": {
    "id": "zjkjD0AmsJZH"
   },
   "source": [
    "Calcul de la moyenne des deux mesure(Accuracy, Recall)"
   ]
  },
  {
   "cell_type": "code",
   "execution_count": 44,
   "metadata": {
    "colab": {
     "base_uri": "https://localhost:8080/"
    },
    "id": "Ol3c5KQ8nyjs",
    "outputId": "26e85b87-cdb8-4bbd-87dd-fb494cfc46a4"
   },
   "outputs": [
    {
     "name": "stdout",
     "output_type": "stream",
     "text": [
      "Random Forest Classifier = 0.643\n"
     ]
    }
   ],
   "source": [
    "accuracy3 = accuracy_score(Ytest, YRFC)\n",
    "recall3 = recall_score(Ytest, YRFC)\n",
    "scoreRFC = (accuracy3 + recall3)/2\n",
    "print(\"Random Forest Classifier = {0:.3f}\".format(scoreRFC))"
   ]
  },
  {
   "cell_type": "markdown",
   "metadata": {
    "id": "t43HKe18rUE7"
   },
   "source": [
    "# **ALGORITHME 4 (Ada Boost Classifier)**"
   ]
  },
  {
   "cell_type": "markdown",
   "metadata": {
    "id": "li_tQ-Putj9c"
   },
   "source": [
    "Importation de l'algorithme(depuis sklearn), appel à la fonction de l'algorithme et Calcul de la moyenne des deux mesure(Accuracy, Recall)"
   ]
  },
  {
   "cell_type": "markdown",
   "metadata": {
    "id": "E0TsWtCcu2wC"
   },
   "source": [
    "ET"
   ]
  },
  {
   "cell_type": "markdown",
   "metadata": {
    "id": "-f7RL41Vu16D"
   },
   "source": [
    "Affichage du accuracy, recall et la matrice de confusion(vp|fp, fn|vn) :"
   ]
  },
  {
   "cell_type": "code",
   "execution_count": 45,
   "metadata": {
    "colab": {
     "base_uri": "https://localhost:8080/"
    },
    "id": "ENITDfZQri7l",
    "outputId": "166fe29b-65f4-4ee5-870d-a6973f3e8a97"
   },
   "outputs": [
    {
     "name": "stdout",
     "output_type": "stream",
     "text": [
      "Accuracy = 0.846\n",
      "Recall = 0.444\n",
      "\n",
      "Matrice de Confusion:\n",
      "[[1885   95]\n",
      " [ 289  231]]\n",
      "\n"
     ]
    }
   ],
   "source": [
    "from sklearn.ensemble import AdaBoostClassifier\n",
    "abc = AdaBoostClassifier(n_estimators = 1000, random_state = 1)\n",
    "abc.fit(Xtrain, Ytrain)\n",
    "YABC = abc.predict(Xtest)\n",
    "print('Accuracy = {0:.3f}\\nRecall = {1:.3f}'.format(accuracy_score(Ytest, YABC), recall_score(Ytest, YABC)))\n",
    "print()\n",
    "\n",
    "print('Matrice de Confusion:')\n",
    "print(confusion_matrix(Ytest, YABC))\n",
    "print()\n"
   ]
  },
  {
   "cell_type": "markdown",
   "metadata": {
    "id": "t8-cVfo4uwas"
   },
   "source": [
    "Calcul de la moyenne des deux mesure(Accuracy, Recall)"
   ]
  },
  {
   "cell_type": "code",
   "execution_count": 46,
   "metadata": {
    "colab": {
     "base_uri": "https://localhost:8080/"
    },
    "id": "0UFj4kB-u9Dq",
    "outputId": "573c0d78-90ee-44cf-a559-e300fe74a0b6"
   },
   "outputs": [
    {
     "name": "stdout",
     "output_type": "stream",
     "text": [
      "Ada Boost Classifier = 0.645\n"
     ]
    }
   ],
   "source": [
    "accuracy4 = accuracy_score(Ytest, YABC)\n",
    "recall4 = recall_score(Ytest, YABC)\n",
    "scoreABC = (accuracy4 + recall4)/2\n",
    "print(\"Ada Boost Classifier = {0:.3f}\".format(scoreABC))"
   ]
  },
  {
   "cell_type": "markdown",
   "metadata": {
    "id": "RZM2pTrlvdP0"
   },
   "source": [
    "# **ALGORITHME 5: Extra Trees Classifier**"
   ]
  },
  {
   "cell_type": "markdown",
   "metadata": {
    "id": "OcsBTNJqwDgy"
   },
   "source": [
    "Importation de l'algorithme(depuis sklearn), appel à la fonction de l'algorithme et Calcul de la moyenne des deux mesure(Accuracy, Recall)"
   ]
  },
  {
   "cell_type": "markdown",
   "metadata": {
    "id": "T6OqGZyDwH2E"
   },
   "source": [
    "ET"
   ]
  },
  {
   "cell_type": "markdown",
   "metadata": {
    "id": "YXDn7fDCwJSp"
   },
   "source": [
    "Affichage du accuracy, recall et la matrice de confusion(vp|fp, fn|vn) :"
   ]
  },
  {
   "cell_type": "code",
   "execution_count": 47,
   "metadata": {
    "colab": {
     "base_uri": "https://localhost:8080/"
    },
    "id": "ydd098sevuWa",
    "outputId": "304c2f32-d3ad-4099-8e5a-fa8d88dc922c"
   },
   "outputs": [
    {
     "name": "stdout",
     "output_type": "stream",
     "text": [
      "Accuracy = 0.852\n",
      "Recall = 0.417\n",
      "\n",
      "Matrice de Confusion:\n",
      "[[1912   68]\n",
      " [ 303  217]]\n",
      "\n"
     ]
    }
   ],
   "source": [
    "from sklearn.ensemble import ExtraTreesClassifier\n",
    "etc = ExtraTreesClassifier(n_estimators = 1000, random_state = 1)\n",
    "etc.fit(Xtrain, Ytrain)\n",
    "YETC = etc.predict(Xtest)\n",
    "print('Accuracy = {0:.3f}\\nRecall = {1:.3f}'.format(accuracy_score(Ytest, YETC), recall_score(Ytest, YETC)))\n",
    "print()\n",
    "print(\"Matrice de Confusion:\")\n",
    "print(confusion_matrix(Ytest, YETC))\n",
    "print()"
   ]
  },
  {
   "cell_type": "markdown",
   "metadata": {
    "id": "s8abYkSayQ5r"
   },
   "source": [
    "Calcul de la moyenne des deux mesure(Accuracy, Recall)"
   ]
  },
  {
   "cell_type": "code",
   "execution_count": 48,
   "metadata": {
    "colab": {
     "base_uri": "https://localhost:8080/"
    },
    "id": "EmHCFRIFyUFh",
    "outputId": "57b8aa0e-439c-4d16-9c08-7b458df0c098"
   },
   "outputs": [
    {
     "name": "stdout",
     "output_type": "stream",
     "text": [
      "Extra Trees Classifier = 0.634\n"
     ]
    }
   ],
   "source": [
    "accuracy5 = accuracy_score(Ytest, YETC)\n",
    "recall5 = recall_score(Ytest, YETC)\n",
    "scoreETC = (accuracy5 + recall5)/2\n",
    "print(\"Extra Trees Classifier = {0:.3f}\".format(scoreETC))"
   ]
  },
  {
   "cell_type": "code",
   "execution_count": 48,
   "metadata": {
    "id": "D-ITRCRBy8Dq"
   },
   "outputs": [],
   "source": []
  },
  {
   "cell_type": "markdown",
   "metadata": {
    "id": "dYPI5T5Jy7MZ"
   },
   "source": [
    "# **ALGORITHME 6: Réseaux de Neurones (Multilayer Perceptron)**"
   ]
  },
  {
   "cell_type": "markdown",
   "metadata": {
    "id": "dyMuHlJ4zNUJ"
   },
   "source": [
    "Importation de l'algorithme(depuis sklearn), appel à la fonction de l'algorithme et Calcul de la moyenne des deux mesure(Accuracy, Recall)"
   ]
  },
  {
   "cell_type": "markdown",
   "metadata": {
    "id": "OVdrG_ZkB95U"
   },
   "source": [
    "ET"
   ]
  },
  {
   "cell_type": "markdown",
   "metadata": {
    "id": "Ee6xf6CoB_KU"
   },
   "source": [
    "\n",
    "Affichage du accuracy, recall et la matrice de confusion(vp|fp, fn|vn) :"
   ]
  },
  {
   "cell_type": "code",
   "execution_count": 49,
   "metadata": {
    "colab": {
     "base_uri": "https://localhost:8080/"
    },
    "id": "cvpMwdsV0evS",
    "outputId": "096038bc-dd31-4b16-95ab-fe2e787e8d8c"
   },
   "outputs": [
    {
     "data": {
      "text/plain": "MLPClassifier(activation='logistic', alpha=0.001, hidden_layer_sizes=(80, 40))"
     },
     "execution_count": 49,
     "metadata": {},
     "output_type": "execute_result"
    }
   ],
   "source": [
    "from sklearn.neural_network import MLPClassifier\n",
    "mlp = MLPClassifier(alpha=0.001, hidden_layer_sizes=(80, 40), max_iter=200, activation=\"logistic\")\n",
    "mlp.fit(Xtrain, Ytrain)\n"
   ]
  },
  {
   "cell_type": "code",
   "execution_count": 50,
   "metadata": {
    "colab": {
     "base_uri": "https://localhost:8080/"
    },
    "id": "UOKn3XyZEGPF",
    "outputId": "a830ff74-50bf-4dce-d0e8-b3e789e974be"
   },
   "outputs": [
    {
     "name": "stdout",
     "output_type": "stream",
     "text": [
      "Accuracy = 0.792\n",
      "Recall = 0.000\n",
      "\n",
      "Matrice de Confusion:\n",
      "[[1980    0]\n",
      " [ 520    0]]\n",
      "\n"
     ]
    }
   ],
   "source": [
    "YMLP = mlp.predict(Xtest)\n",
    "print('Accuracy = {0:.3f}\\nRecall = {1:.3f}'.format(accuracy_score(Ytest, YMLP), recall_score(Ytest, YMLP)))\n",
    "print()\n",
    "print(\"Matrice de Confusion:\")\n",
    "print(confusion_matrix(Ytest, YMLP))\n",
    "print()"
   ]
  },
  {
   "cell_type": "markdown",
   "metadata": {
    "id": "ue-dAKiKB8PD"
   },
   "source": [
    "Calcul de la moyenne des deux mesure(Accuracy, Recall)"
   ]
  },
  {
   "cell_type": "code",
   "execution_count": 51,
   "metadata": {
    "colab": {
     "base_uri": "https://localhost:8080/"
    },
    "id": "0w57Ly7eCFol",
    "outputId": "105ba18d-5bf7-48da-9d72-2534696a66b8"
   },
   "outputs": [
    {
     "name": "stdout",
     "output_type": "stream",
     "text": [
      "Multi-Layer Perceptron score = 0.396\n"
     ]
    }
   ],
   "source": [
    "accuracy6 = accuracy_score(Ytest, YMLP)\n",
    "recall6 = recall_score(Ytest, YMLP)\n",
    "scoreMLP = (accuracy6 + recall6)/2\n",
    "print(\"Multi-Layer Perceptron score = {0:.3f}\".format(scoreMLP))"
   ]
  },
  {
   "cell_type": "markdown",
   "metadata": {
    "id": "ckWs8IhDG77x"
   },
   "source": [
    "## **5.Normalisation des données**"
   ]
  },
  {
   "cell_type": "markdown",
   "metadata": {
    "id": "-uDve24jHJfS"
   },
   "source": [
    "1.Importation des standards de normalisation"
   ]
  },
  {
   "cell_type": "code",
   "execution_count": 52,
   "metadata": {
    "id": "AFGfmxQEHPQD"
   },
   "outputs": [],
   "source": [
    "from sklearn.preprocessing import StandardScaler, MinMaxScaler"
   ]
  },
  {
   "cell_type": "markdown",
   "metadata": {
    "id": "bfCZpeS9JJZB"
   },
   "source": [
    "2.Normalisation"
   ]
  },
  {
   "cell_type": "code",
   "execution_count": 53,
   "metadata": {
    "id": "VZKRQHlOJIvB"
   },
   "outputs": [],
   "source": [
    "s_data=StandardScaler()\n",
    "s_data.fit(Xtrain)\n",
    "Xtrain_Norm = s_data.transform(Xtrain)\n",
    "Xtest_Norm = s_data.transform(Xtest)\n"
   ]
  },
  {
   "cell_type": "markdown",
   "metadata": {
    "id": "t3ZzX8qlKEID"
   },
   "source": [
    "# **Algorithme Arbre de decision(par la méthode de l'entropie)**"
   ]
  },
  {
   "cell_type": "code",
   "execution_count": 54,
   "metadata": {
    "colab": {
     "base_uri": "https://localhost:8080/"
    },
    "id": "Brajsg05KGuz",
    "outputId": "14a3e26b-2983-482b-b624-0892758d55a1"
   },
   "outputs": [
    {
     "data": {
      "text/plain": "0.7936"
     },
     "execution_count": 54,
     "metadata": {},
     "output_type": "execute_result"
    }
   ],
   "source": [
    "DTC2_norm = DecisionTreeClassifier(random_state=0, criterion='entropy')\n",
    "DTC2_norm.fit(Xtrain_Norm, Ytrain)\n",
    "DTC2_norm.score(Xtest_Norm, Ytest)\n"
   ]
  },
  {
   "cell_type": "code",
   "execution_count": 55,
   "metadata": {
    "colab": {
     "base_uri": "https://localhost:8080/"
    },
    "id": "GZfywkNgKmsp",
    "outputId": "010331b0-cc36-4810-dec0-1b7742c2edf2"
   },
   "outputs": [
    {
     "name": "stdout",
     "output_type": "stream",
     "text": [
      "Accuracy = 0.794\n",
      "Recall = 0.523\n",
      "\n",
      "Matrice de Confusion\n",
      "[[1712  268]\n",
      " [ 248  272]]\n",
      "\n"
     ]
    }
   ],
   "source": [
    "YDTC2_norm = DTC2_norm.predict(Xtest_Norm)#sans affecter cette ligne à une variable(YDT dans notre cas) elle nous renvoie le tableau des résultats\n",
    " \n",
    "print('Accuracy = {0:.3f}\\nRecall = {1:.3f}'.format(accuracy_score(Ytest, YDTC2_norm), recall_score(Ytest, YDTC2_norm)))\n",
    "print()\n",
    "\n",
    "print('Matrice de Confusion')\n",
    "print(confusion_matrix(Ytest, YDTC2_norm))\n",
    "print()"
   ]
  },
  {
   "cell_type": "code",
   "execution_count": 56,
   "metadata": {
    "colab": {
     "base_uri": "https://localhost:8080/"
    },
    "id": "SFLxpK8tK1Cp",
    "outputId": "25296c30-4e5d-4ec3-ca6b-0078ee19f33a"
   },
   "outputs": [
    {
     "name": "stdout",
     "output_type": "stream",
     "text": [
      "Score Decision Tree après norm = 0.658\n"
     ]
    }
   ],
   "source": [
    "accuracy12_norm = accuracy_score(Ytest, YDTC2_norm)\n",
    "recall12_norm = recall_score(Ytest, YDTC2_norm)\n",
    "scoreDTC2_norm = (accuracy12_norm + recall12_norm)/2\n",
    "print(\"Score Decision Tree après norm = {0:.3f}\".format(scoreDTC2_norm))"
   ]
  },
  {
   "cell_type": "markdown",
   "metadata": {
    "id": "V6TWp1r9LcVa"
   },
   "source": [
    "# **Algorithme KNN**"
   ]
  },
  {
   "cell_type": "code",
   "execution_count": 57,
   "metadata": {
    "colab": {
     "base_uri": "https://localhost:8080/"
    },
    "id": "3i5sumWYLd7J",
    "outputId": "d1f94025-ea27-4df0-8e55-541d075cc4b3"
   },
   "outputs": [
    {
     "name": "stdout",
     "output_type": "stream",
     "text": [
      "Accuracy = 0.823\n",
      "Recall = 0.396\n",
      "\n",
      "Matrice de Confusion\n",
      "[[1852  128]\n",
      " [ 314  206]]\n",
      "\n"
     ]
    }
   ],
   "source": [
    "knc_norm = neighbors.KNeighborsClassifier(3)\n",
    "knc_norm.fit(Xtrain_Norm, Ytrain)\n",
    "YKNC_norm = knc_norm.predict(Xtest_Norm)\n",
    "print('Accuracy = {0:.3f}\\nRecall = {1:.3f}'.format(accuracy_score(Ytest, YKNC_norm), recall_score(Ytest, YKNC_norm)))\n",
    "print()\n",
    "print('Matrice de Confusion')\n",
    "print(confusion_matrix(Ytest, YKNC_norm))\n",
    "print()"
   ]
  },
  {
   "cell_type": "code",
   "execution_count": 58,
   "metadata": {
    "colab": {
     "base_uri": "https://localhost:8080/"
    },
    "id": "8r4scahPL00C",
    "outputId": "9149ddc5-792d-49dd-aaa5-a5dc64562adf"
   },
   "outputs": [
    {
     "name": "stdout",
     "output_type": "stream",
     "text": [
      "Score Decision Tree = 0.610\n"
     ]
    }
   ],
   "source": [
    "accuracy2_norm = accuracy_score(Ytest, YKNC_norm)\n",
    "recall2_norm = recall_score(Ytest, YKNC_norm)\n",
    "scoreKNC_norm = (accuracy2_norm + recall2_norm)/2\n",
    "print(\"Score Decision Tree = {0:.3f}\".format(scoreKNC_norm))"
   ]
  },
  {
   "cell_type": "markdown",
   "metadata": {
    "id": "zrM4y4EDMVOY"
   },
   "source": [
    "# **Algorithme RFC**"
   ]
  },
  {
   "cell_type": "code",
   "execution_count": 59,
   "metadata": {
    "colab": {
     "base_uri": "https://localhost:8080/"
    },
    "id": "ShmucWbSMWIp",
    "outputId": "3aaea018-7375-4f47-f0fd-52d2e81a906c"
   },
   "outputs": [
    {
     "name": "stdout",
     "output_type": "stream",
     "text": [
      "Accuracy = 0.855\n",
      "Recall = 0.431\n",
      "\n",
      "Matrice de Confusion\n",
      "[[1913   67]\n",
      " [ 296  224]]\n",
      "\n"
     ]
    }
   ],
   "source": [
    "rfc_norm = RandomForestClassifier(n_estimators = 1000, random_state = 42)\n",
    "rfc_norm.fit(Xtrain_Norm, Ytrain)\n",
    "YRFC_norm = rfc_norm.predict(Xtest_Norm)\n",
    "print('Accuracy = {0:.3f}\\nRecall = {1:.3f}'.format(accuracy_score(Ytest, YRFC_norm), recall_score(Ytest, YRFC_norm)))\n",
    "print()\n",
    "\n",
    "print('Matrice de Confusion')\n",
    "print(confusion_matrix(Ytest, YRFC_norm))\n",
    "print()"
   ]
  },
  {
   "cell_type": "code",
   "execution_count": 60,
   "metadata": {
    "colab": {
     "base_uri": "https://localhost:8080/"
    },
    "id": "ExEJP8m6MlWC",
    "outputId": "0b171a3b-0bb9-487b-b19e-353277593804"
   },
   "outputs": [
    {
     "name": "stdout",
     "output_type": "stream",
     "text": [
      "Random Forest Classifier après norm = 0.643\n"
     ]
    }
   ],
   "source": [
    "accuracy3_norm = accuracy_score(Ytest, YRFC_norm)\n",
    "recall3_norm = recall_score(Ytest, YRFC_norm)\n",
    "scoreRFC_norm = (accuracy3_norm + recall3_norm)/2\n",
    "print(\"Random Forest Classifier après norm = {0:.3f}\".format(scoreRFC_norm))"
   ]
  },
  {
   "cell_type": "markdown",
   "metadata": {
    "id": "o895CqcfNCGz"
   },
   "source": [
    "# **Algorithme ABC**"
   ]
  },
  {
   "cell_type": "code",
   "execution_count": 61,
   "metadata": {
    "colab": {
     "base_uri": "https://localhost:8080/"
    },
    "id": "Gxk7-l6YNDgh",
    "outputId": "6b55b26b-486a-4e81-baa4-930fe6b15175"
   },
   "outputs": [
    {
     "name": "stdout",
     "output_type": "stream",
     "text": [
      "Accuracy = 0.846\n",
      "Recall = 0.444\n",
      "\n",
      "Matrice de Confusion:\n",
      "[[1885   95]\n",
      " [ 289  231]]\n"
     ]
    }
   ],
   "source": [
    "abc_norm = AdaBoostClassifier(n_estimators = 1000, random_state = 1)\n",
    "abc_norm.fit(Xtrain_Norm, Ytrain)\n",
    "YABC_norm = abc_norm.predict(Xtest_Norm)\n",
    "print('Accuracy = {0:.3f}\\nRecall = {1:.3f}'.format(accuracy_score(Ytest, YABC_norm), recall_score(Ytest, YABC_norm)))\n",
    "print()\n",
    "print(\"Matrice de Confusion:\")\n",
    "print(confusion_matrix(Ytest, YABC_norm))"
   ]
  },
  {
   "cell_type": "code",
   "execution_count": 62,
   "metadata": {
    "colab": {
     "base_uri": "https://localhost:8080/"
    },
    "id": "48Acs77VNN7p",
    "outputId": "ab554da2-02ed-48b4-8779-9cc0e4b20402"
   },
   "outputs": [
    {
     "name": "stdout",
     "output_type": "stream",
     "text": [
      "Ada Boost Classifier après norm = 0.645\n"
     ]
    }
   ],
   "source": [
    "accuracy4_norm = accuracy_score(Ytest, YABC_norm)\n",
    "recall4_norm = recall_score(Ytest, YABC_norm)\n",
    "scoreABC_norm = (accuracy4_norm + recall4_norm)/2\n",
    "print(\"Ada Boost Classifier après norm = {0:.3f}\".format(scoreABC_norm))"
   ]
  },
  {
   "cell_type": "markdown",
   "metadata": {
    "id": "RGYWpERENlq4"
   },
   "source": [
    "# **Algorithme ETC**"
   ]
  },
  {
   "cell_type": "code",
   "execution_count": 63,
   "metadata": {
    "colab": {
     "base_uri": "https://localhost:8080/"
    },
    "id": "U6LTddh2NnBY",
    "outputId": "e70f831f-24f7-4bd7-8cbc-94bbc1fe2b36"
   },
   "outputs": [
    {
     "name": "stdout",
     "output_type": "stream",
     "text": [
      "Accuracy = 0.852\n",
      "Recall = 0.417\n",
      "\n",
      "Matrice de Confusion:\n",
      "[[1912   68]\n",
      " [ 303  217]]\n"
     ]
    }
   ],
   "source": [
    "etc_norm = ExtraTreesClassifier(n_estimators = 1000, random_state = 1)\n",
    "etc_norm.fit(Xtrain_Norm, Ytrain)\n",
    "YETC_norm = etc_norm.predict(Xtest_Norm)\n",
    "print('Accuracy = {0:.3f}\\nRecall = {1:.3f}'.format(accuracy_score(Ytest, YETC_norm), recall_score(Ytest, YETC_norm)))\n",
    "print()\n",
    "print(\"Matrice de Confusion:\")\n",
    "print(confusion_matrix(Ytest, YETC_norm))"
   ]
  },
  {
   "cell_type": "code",
   "execution_count": 64,
   "metadata": {
    "colab": {
     "base_uri": "https://localhost:8080/"
    },
    "id": "1ytwQT9ZN5m3",
    "outputId": "67c3782a-90a4-45f9-83d9-c1e1797df19a"
   },
   "outputs": [
    {
     "name": "stdout",
     "output_type": "stream",
     "text": [
      "Extra Trees Classifier = 0.634\n"
     ]
    }
   ],
   "source": [
    "accuracy5_norm = accuracy_score(Ytest, YETC_norm)\n",
    "recall5_norm = recall_score(Ytest, YETC_norm)\n",
    "scoreETC_norm= (accuracy5_norm + recall5_norm)/2\n",
    "print(\"Extra Trees Classifier = {0:.3f}\".format(scoreETC_norm))"
   ]
  },
  {
   "cell_type": "markdown",
   "metadata": {
    "id": "Ja0Tkks0WMPs"
   },
   "source": [
    "# **Algorithme MLP**"
   ]
  },
  {
   "cell_type": "code",
   "execution_count": 65,
   "metadata": {
    "colab": {
     "base_uri": "https://localhost:8080/"
    },
    "id": "3npulqzLWQNb",
    "outputId": "4db74e01-e99a-47c3-c859-e4ef93091cf2"
   },
   "outputs": [
    {
     "name": "stdout",
     "output_type": "stream",
     "text": [
      "Accuracy = 0.854\n",
      "Recall = 0.419\n",
      "\n",
      "Matrice de Confusion:\n",
      "[[1918   62]\n",
      " [ 302  218]]\n",
      "\n"
     ]
    }
   ],
   "source": [
    "mlp_norm = MLPClassifier(alpha=0.001, hidden_layer_sizes=(80, 40), max_iter=200, activation=\"logistic\")\n",
    "mlp_norm.fit(Xtrain_Norm, Ytrain)\n",
    "YMLP_norm = mlp_norm.predict(Xtest_Norm)\n",
    "print('Accuracy = {0:.3f}\\nRecall = {1:.3f}'.format(accuracy_score(Ytest, YMLP_norm), recall_score(Ytest, YMLP_norm)))\n",
    "print()\n",
    "print(\"Matrice de Confusion:\")\n",
    "print(confusion_matrix(Ytest, YMLP_norm))\n",
    "print()"
   ]
  },
  {
   "cell_type": "code",
   "execution_count": 66,
   "metadata": {
    "colab": {
     "base_uri": "https://localhost:8080/"
    },
    "id": "ny5YXlsKWyqK",
    "outputId": "4648e557-6c22-400b-e9a6-7b8d579bfb5e"
   },
   "outputs": [
    {
     "name": "stdout",
     "output_type": "stream",
     "text": [
      "Multi-Layer Perceptron score = 0.637\n"
     ]
    }
   ],
   "source": [
    "accuracy6_norm = accuracy_score(Ytest, YMLP_norm)\n",
    "recall6_norm = recall_score(Ytest, YMLP_norm)\n",
    "scoreMLP_norm = (accuracy6_norm + recall6_norm)/2\n",
    "print(\"Multi-Layer Perceptron score = {0:.3f}\".format(scoreMLP_norm))"
   ]
  }
 ],
 "metadata": {
  "colab": {
   "collapsed_sections": [
    "U7Vti9z3CGpU",
    "uoSXho8I_xjm",
    "t43HKe18rUE7"
   ],
   "name": "TP2_IA.ipynb",
   "provenance": []
  },
  "kernelspec": {
   "display_name": "Python 3 (ipykernel)",
   "language": "python",
   "name": "python3"
  },
  "language_info": {
   "codemirror_mode": {
    "name": "ipython",
    "version": 3
   },
   "file_extension": ".py",
   "mimetype": "text/x-python",
   "name": "python",
   "nbconvert_exporter": "python",
   "pygments_lexer": "ipython3",
   "version": "3.8.12"
  }
 },
 "nbformat": 4,
 "nbformat_minor": 4
}
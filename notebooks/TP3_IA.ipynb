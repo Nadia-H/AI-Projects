{
 "cells": [
  {
   "cell_type": "markdown",
   "metadata": {
    "id": "bZpFkNdhQXP2"
   },
   "source": [
    "### ***TP3: Machine Learning with python using keras***"
   ]
  },
  {
   "cell_type": "markdown",
   "metadata": {
    "id": "_xR_XgivzOQz"
   },
   "source": [
    "# **Etape 1: Importation des bibliothèques**"
   ]
  },
  {
   "cell_type": "code",
   "execution_count": 1,
   "metadata": {
    "id": "huVrLRqavh-I"
   },
   "outputs": [],
   "source": [
    "import tensorflow as tf\n",
    "from tensorflow import keras\n",
    "#import keras\n",
    "from keras.datasets import mnist # import the function mnist\n",
    "from keras.models import Sequential\n",
    "from keras.layers import Dense, Dropout # Dense = Fully Connected layer.\n",
    "from tensorflow.keras.optimizers import RMSprop,Adam\n",
    "import matplotlib.pyplot as plt"
   ]
  },
  {
   "cell_type": "markdown",
   "metadata": {
    "id": "RUXuBiOdy5Vb"
   },
   "source": [
    "## **Etape 2 : PREPARATION DU RESEAU ET DES DONNEES**"
   ]
  },
  {
   "cell_type": "markdown",
   "metadata": {
    "id": "ffM4bg4G0fmD"
   },
   "source": [
    "*-Fixer quelques caractéristiques : Nombre de classes nombre d’époques et le nombre de patch size.*\n"
   ]
  },
  {
   "cell_type": "code",
   "execution_count": 2,
   "metadata": {
    "id": "WTVYplsAzFlN"
   },
   "outputs": [],
   "source": [
    "batch_size = 128\n",
    "num_classes = 10\n",
    "epochs = 100"
   ]
  },
  {
   "cell_type": "markdown",
   "metadata": {
    "id": "juLdS2xZ0wIc"
   },
   "source": [
    "*-Charger la base d’apprentissage et de test:*\n"
   ]
  },
  {
   "cell_type": "code",
   "execution_count": 3,
   "metadata": {
    "id": "OlcSuzFazic6"
   },
   "outputs": [
    {
     "name": "stdout",
     "output_type": "stream",
     "text": [
      "Downloading data from https://storage.googleapis.com/tensorflow/tf-keras-datasets/mnist.npz\n",
      "11493376/11490434 [==============================] - 34s 3us/step\n"
     ]
    }
   ],
   "source": [
    "(x_train, y_train),(x_test, y_test) = mnist.load_data()"
   ]
  },
  {
   "cell_type": "markdown",
   "metadata": {
    "id": "VzileLhz0-vj"
   },
   "source": [
    "*-Vérifier le chargement des données:*"
   ]
  },
  {
   "cell_type": "code",
   "execution_count": 4,
   "metadata": {
    "colab": {
     "base_uri": "https://localhost:8080/"
    },
    "id": "XzGy3ZJizoxT",
    "outputId": "22c6b026-4cd8-4aef-c606-3d8f2d8a06d4"
   },
   "outputs": [
    {
     "name": "stdout",
     "output_type": "stream",
     "text": [
      "(60000, 28, 28)\n",
      "(10000, 28, 28)\n",
      "(60000,)\n",
      "(10000,)\n"
     ]
    }
   ],
   "source": [
    "print(x_train.shape)\n",
    "print(x_test.shape)\n",
    "print(y_train.shape)\n",
    "print(y_test.shape)"
   ]
  },
  {
   "cell_type": "code",
   "execution_count": 5,
   "metadata": {
    "colab": {
     "base_uri": "https://localhost:8080/",
     "height": 282
    },
    "id": "3kipeAbp2KIh",
    "outputId": "cd6a87b1-ca50-4758-b54e-22facdcb3429"
   },
   "outputs": [
    {
     "data": {
      "text/plain": "<matplotlib.image.AxesImage at 0x23ca5b8c670>"
     },
     "execution_count": 5,
     "metadata": {},
     "output_type": "execute_result"
    },
    {
     "data": {
      "text/plain": "<Figure size 432x288 with 1 Axes>",
      "image/png": "[encoded data removed]"
     },
     "metadata": {
      "needs_background": "light"
     },
     "output_type": "display_data"
    }
   ],
   "source": [
    "plt.imshow(x_train[1,:,:], cmap = 'gray')"
   ]
  },
  {
   "cell_type": "markdown",
   "metadata": {
    "id": "ByIUFI7w1TaD"
   },
   "source": [
    "*-Changement du type des données et application d’une normalisation:*"
   ]
  },
  {
   "cell_type": "code",
   "execution_count": 6,
   "metadata": {
    "colab": {
     "base_uri": "https://localhost:8080/"
    },
    "id": "qeFyW8-5zoeS",
    "outputId": "e5fa6a51-2f06-4025-8c8b-642e7c89c58b"
   },
   "outputs": [
    {
     "name": "stdout",
     "output_type": "stream",
     "text": [
      "60000 train samples\n",
      "10000 test samples\n"
     ]
    }
   ],
   "source": [
    "x_train = x_train.reshape(60000, 784)\n",
    "x_test = x_test.reshape(10000, 784)\n",
    "x_train = x_train.astype('float32')\n",
    "x_test = x_test.astype('float32')\n",
    "x_train /= 255\n",
    "x_test /= 255\n",
    "print(x_train.shape[0],\"train samples\")\n",
    "print(x_test.shape[0],\"test samples\")"
   ]
  },
  {
   "cell_type": "markdown",
   "metadata": {
    "id": "0FgbzDJB1Yw7"
   },
   "source": [
    "*-Adaptation de la classe de sortie à la couche de sortie du réseau*"
   ]
  },
  {
   "cell_type": "code",
   "execution_count": 7,
   "metadata": {
    "colab": {
     "base_uri": "https://localhost:8080/"
    },
    "id": "spBmsgiEzoSK",
    "outputId": "6f54fa1e-88e6-4d85-dd2b-8c2fa1224d0e"
   },
   "outputs": [
    {
     "name": "stdout",
     "output_type": "stream",
     "text": [
      "[1. 0. 0. 0. 0. 0. 0. 0. 0. 0.]\n"
     ]
    }
   ],
   "source": [
    "y_train = keras.utils.to_categorical(y_train, num_classes)\n",
    "y_test = keras.utils.to_categorical(y_test, num_classes)\n",
    "\n",
    "print(y_train[1,:])"
   ]
  },
  {
   "cell_type": "markdown",
   "metadata": {
    "id": "kj4vHZXD4f4F"
   },
   "source": [
    "## **Etape 3: CONSTRUCTION DU MODELE NEURONAL ET APPLICATION DE L’APPRENTISSAGE**"
   ]
  },
  {
   "cell_type": "markdown",
   "metadata": {
    "id": "pQlobcgZ5PI5"
   },
   "source": [
    "*− Construction du modèle neuronal avec 1 couche d’entrée, 2 couches cachées et 1 couche de sortie.*"
   ]
  },
  {
   "cell_type": "code",
   "execution_count": 8,
   "metadata": {
    "colab": {
     "base_uri": "https://localhost:8080/"
    },
    "id": "GhwApCck45xz",
    "outputId": "eeac7f2b-86e0-42d8-b274-ffd5648b9a2d"
   },
   "outputs": [
    {
     "name": "stdout",
     "output_type": "stream",
     "text": [
      "Model: \"sequential\"\n",
      "_________________________________________________________________\n",
      "Layer (type)                 Output Shape              Param #   \n",
      "=================================================================\n",
      "dense (Dense)                (None, 200)               157000    \n",
      "_________________________________________________________________\n",
      "dropout (Dropout)            (None, 200)               0         \n",
      "_________________________________________________________________\n",
      "dense_1 (Dense)              (None, 200)               40200     \n",
      "_________________________________________________________________\n",
      "dropout_1 (Dropout)          (None, 200)               0         \n",
      "_________________________________________________________________\n",
      "dense_2 (Dense)              (None, 10)                2010      \n",
      "=================================================================\n",
      "Total params: 199,210\n",
      "Trainable params: 199,210\n",
      "Non-trainable params: 0\n",
      "_________________________________________________________________\n"
     ]
    }
   ],
   "source": [
    "model = Sequential()\n",
    "model.add(Dense(200,activation='relu', input_shape=(784,)))\n",
    "model.add(Dropout(0.4))\n",
    "\n",
    "model.add(Dense(200,activation='relu'))\n",
    "model.add(Dropout(0.4))\n",
    "\n",
    "model.add(Dense(10,activation='softmax'))\n",
    "\n",
    "model.summary()"
   ]
  },
  {
   "cell_type": "markdown",
   "metadata": {
    "id": "FmyapwEQ5YVp"
   },
   "source": [
    "*− Fixer l’algorithme d’apprentissage*"
   ]
  },
  {
   "cell_type": "code",
   "execution_count": 9,
   "metadata": {
    "id": "vM6wUAR95dox"
   },
   "outputs": [],
   "source": [
    "model.compile(loss=\"categorical_crossentropy\", optimizer=Adam(), metrics=['accuracy'])"
   ]
  },
  {
   "cell_type": "markdown",
   "metadata": {
    "id": "Y_Mykq4O5mu5"
   },
   "source": [
    "*-Effectuer l’apprentissage*"
   ]
  },
  {
   "cell_type": "code",
   "execution_count": 10,
   "metadata": {
    "colab": {
     "base_uri": "https://localhost:8080/"
    },
    "id": "7VjaxN2Q5eNp",
    "outputId": "f85a14c4-0c07-49ff-f7c0-d95a7e2b9892"
   },
   "outputs": [
    {
     "name": "stdout",
     "output_type": "stream",
     "text": [
      "Epoch 1/100\n",
      "469/469 [==============================] - 6s 12ms/step - loss: 0.4410 - accuracy: 0.8654 - val_loss: 0.1595 - val_accuracy: 0.9498\n",
      "Epoch 2/100\n",
      "469/469 [==============================] - 2s 5ms/step - loss: 0.2003 - accuracy: 0.9402 - val_loss: 0.1123 - val_accuracy: 0.9649\n",
      "Epoch 3/100\n",
      "469/469 [==============================] - 2s 5ms/step - loss: 0.1537 - accuracy: 0.9536 - val_loss: 0.0967 - val_accuracy: 0.9704\n",
      "Epoch 4/100\n",
      "469/469 [==============================] - 2s 4ms/step - loss: 0.1280 - accuracy: 0.9606 - val_loss: 0.0824 - val_accuracy: 0.9760\n",
      "Epoch 5/100\n",
      "469/469 [==============================] - 2s 5ms/step - loss: 0.1153 - accuracy: 0.9648 - val_loss: 0.0785 - val_accuracy: 0.9767\n",
      "Epoch 6/100\n",
      "469/469 [==============================] - 2s 5ms/step - loss: 0.1043 - accuracy: 0.9677 - val_loss: 0.0742 - val_accuracy: 0.9780\n",
      "Epoch 7/100\n",
      "469/469 [==============================] - 2s 5ms/step - loss: 0.0929 - accuracy: 0.9707 - val_loss: 0.0746 - val_accuracy: 0.9771\n",
      "Epoch 8/100\n",
      "469/469 [==============================] - 3s 7ms/step - loss: 0.0870 - accuracy: 0.9727 - val_loss: 0.0692 - val_accuracy: 0.9789\n",
      "Epoch 9/100\n",
      "469/469 [==============================] - 2s 4ms/step - loss: 0.0813 - accuracy: 0.9751 - val_loss: 0.0703 - val_accuracy: 0.9794\n",
      "Epoch 10/100\n",
      "469/469 [==============================] - 2s 5ms/step - loss: 0.0757 - accuracy: 0.9763 - val_loss: 0.0665 - val_accuracy: 0.9801\n",
      "Epoch 11/100\n",
      "469/469 [==============================] - 2s 5ms/step - loss: 0.0735 - accuracy: 0.9769 - val_loss: 0.0664 - val_accuracy: 0.9805\n",
      "Epoch 12/100\n",
      "469/469 [==============================] - 2s 5ms/step - loss: 0.0695 - accuracy: 0.9777 - val_loss: 0.0663 - val_accuracy: 0.9810\n",
      "Epoch 13/100\n",
      "469/469 [==============================] - 2s 5ms/step - loss: 0.0670 - accuracy: 0.9781 - val_loss: 0.0643 - val_accuracy: 0.9797\n",
      "Epoch 14/100\n",
      "469/469 [==============================] - 2s 5ms/step - loss: 0.0607 - accuracy: 0.9811 - val_loss: 0.0692 - val_accuracy: 0.9802\n",
      "Epoch 15/100\n",
      "469/469 [==============================] - 2s 5ms/step - loss: 0.0604 - accuracy: 0.9806 - val_loss: 0.0663 - val_accuracy: 0.9818\n",
      "Epoch 16/100\n",
      "469/469 [==============================] - 3s 5ms/step - loss: 0.0578 - accuracy: 0.9814 - val_loss: 0.0621 - val_accuracy: 0.9824\n",
      "Epoch 17/100\n",
      "469/469 [==============================] - 2s 5ms/step - loss: 0.0560 - accuracy: 0.9820 - val_loss: 0.0667 - val_accuracy: 0.9814\n",
      "Epoch 18/100\n",
      "469/469 [==============================] - 2s 5ms/step - loss: 0.0552 - accuracy: 0.9823 - val_loss: 0.0672 - val_accuracy: 0.9825\n",
      "Epoch 19/100\n",
      "469/469 [==============================] - 2s 5ms/step - loss: 0.0509 - accuracy: 0.9833 - val_loss: 0.0636 - val_accuracy: 0.9833\n",
      "Epoch 20/100\n",
      "469/469 [==============================] - 2s 5ms/step - loss: 0.0543 - accuracy: 0.9830 - val_loss: 0.0683 - val_accuracy: 0.9822\n",
      "Epoch 21/100\n",
      "469/469 [==============================] - 2s 5ms/step - loss: 0.0513 - accuracy: 0.9833 - val_loss: 0.0629 - val_accuracy: 0.9835\n",
      "Epoch 22/100\n",
      "469/469 [==============================] - 2s 5ms/step - loss: 0.0498 - accuracy: 0.9840 - val_loss: 0.0678 - val_accuracy: 0.9819\n",
      "Epoch 23/100\n",
      "469/469 [==============================] - 2s 5ms/step - loss: 0.0498 - accuracy: 0.9838 - val_loss: 0.0683 - val_accuracy: 0.9823\n",
      "Epoch 24/100\n",
      "469/469 [==============================] - 2s 5ms/step - loss: 0.0467 - accuracy: 0.9851 - val_loss: 0.0644 - val_accuracy: 0.9823\n",
      "Epoch 25/100\n",
      "469/469 [==============================] - 2s 5ms/step - loss: 0.0480 - accuracy: 0.9844 - val_loss: 0.0641 - val_accuracy: 0.9826\n",
      "Epoch 26/100\n",
      "469/469 [==============================] - 2s 5ms/step - loss: 0.0476 - accuracy: 0.9846 - val_loss: 0.0636 - val_accuracy: 0.9833\n",
      "Epoch 27/100\n",
      "469/469 [==============================] - 3s 6ms/step - loss: 0.0438 - accuracy: 0.9861 - val_loss: 0.0683 - val_accuracy: 0.9832\n",
      "Epoch 28/100\n",
      "469/469 [==============================] - 3s 6ms/step - loss: 0.0436 - accuracy: 0.9855 - val_loss: 0.0687 - val_accuracy: 0.9818\n",
      "Epoch 29/100\n",
      "469/469 [==============================] - 3s 6ms/step - loss: 0.0404 - accuracy: 0.9865 - val_loss: 0.0695 - val_accuracy: 0.9822\n",
      "Epoch 30/100\n",
      "469/469 [==============================] - 3s 6ms/step - loss: 0.0419 - accuracy: 0.9859 - val_loss: 0.0699 - val_accuracy: 0.9831\n",
      "Epoch 31/100\n",
      "469/469 [==============================] - 3s 6ms/step - loss: 0.0413 - accuracy: 0.9865 - val_loss: 0.0653 - val_accuracy: 0.9825\n",
      "Epoch 32/100\n",
      "469/469 [==============================] - 3s 7ms/step - loss: 0.0401 - accuracy: 0.9870 - val_loss: 0.0680 - val_accuracy: 0.9842\n",
      "Epoch 33/100\n",
      "469/469 [==============================] - 3s 6ms/step - loss: 0.0407 - accuracy: 0.9874 - val_loss: 0.0645 - val_accuracy: 0.9836\n",
      "Epoch 34/100\n",
      "469/469 [==============================] - 2s 5ms/step - loss: 0.0403 - accuracy: 0.9868 - val_loss: 0.0732 - val_accuracy: 0.9821\n",
      "Epoch 35/100\n",
      "469/469 [==============================] - 3s 5ms/step - loss: 0.0380 - accuracy: 0.9873 - val_loss: 0.0678 - val_accuracy: 0.9834\n",
      "Epoch 36/100\n",
      "469/469 [==============================] - 3s 6ms/step - loss: 0.0395 - accuracy: 0.9873 - val_loss: 0.0707 - val_accuracy: 0.9825\n",
      "Epoch 37/100\n",
      "469/469 [==============================] - 3s 6ms/step - loss: 0.0385 - accuracy: 0.9877 - val_loss: 0.0703 - val_accuracy: 0.9843\n",
      "Epoch 38/100\n",
      "469/469 [==============================] - 3s 6ms/step - loss: 0.0375 - accuracy: 0.9879 - val_loss: 0.0716 - val_accuracy: 0.9842\n",
      "Epoch 39/100\n",
      "469/469 [==============================] - 3s 6ms/step - loss: 0.0380 - accuracy: 0.9877 - val_loss: 0.0769 - val_accuracy: 0.9833\n",
      "Epoch 40/100\n",
      "469/469 [==============================] - 3s 6ms/step - loss: 0.0348 - accuracy: 0.9893 - val_loss: 0.0710 - val_accuracy: 0.9842\n",
      "Epoch 41/100\n",
      "469/469 [==============================] - 3s 6ms/step - loss: 0.0359 - accuracy: 0.9885 - val_loss: 0.0698 - val_accuracy: 0.9841\n",
      "Epoch 42/100\n",
      "469/469 [==============================] - 3s 6ms/step - loss: 0.0382 - accuracy: 0.9878 - val_loss: 0.0679 - val_accuracy: 0.9833\n",
      "Epoch 43/100\n",
      "469/469 [==============================] - 3s 6ms/step - loss: 0.0348 - accuracy: 0.9885 - val_loss: 0.0702 - val_accuracy: 0.9832\n",
      "Epoch 44/100\n",
      "469/469 [==============================] - 3s 5ms/step - loss: 0.0341 - accuracy: 0.9886 - val_loss: 0.0690 - val_accuracy: 0.9833\n",
      "Epoch 45/100\n",
      "469/469 [==============================] - 3s 7ms/step - loss: 0.0352 - accuracy: 0.9884 - val_loss: 0.0702 - val_accuracy: 0.9823\n",
      "Epoch 46/100\n",
      "469/469 [==============================] - 3s 6ms/step - loss: 0.0343 - accuracy: 0.9890 - val_loss: 0.0764 - val_accuracy: 0.9832\n",
      "Epoch 47/100\n",
      "469/469 [==============================] - 3s 6ms/step - loss: 0.0368 - accuracy: 0.9884 - val_loss: 0.0745 - val_accuracy: 0.9830\n",
      "Epoch 48/100\n",
      "469/469 [==============================] - 3s 7ms/step - loss: 0.0329 - accuracy: 0.9897 - val_loss: 0.0681 - val_accuracy: 0.9844\n",
      "Epoch 49/100\n",
      "469/469 [==============================] - 3s 6ms/step - loss: 0.0343 - accuracy: 0.9888 - val_loss: 0.0723 - val_accuracy: 0.9845\n",
      "Epoch 50/100\n",
      "469/469 [==============================] - 2s 5ms/step - loss: 0.0341 - accuracy: 0.9892 - val_loss: 0.0738 - val_accuracy: 0.9836\n",
      "Epoch 51/100\n",
      "469/469 [==============================] - 3s 6ms/step - loss: 0.0330 - accuracy: 0.9891 - val_loss: 0.0750 - val_accuracy: 0.9832\n",
      "Epoch 52/100\n",
      "469/469 [==============================] - 3s 6ms/step - loss: 0.0319 - accuracy: 0.9897 - val_loss: 0.0725 - val_accuracy: 0.9841\n",
      "Epoch 53/100\n",
      "469/469 [==============================] - 3s 6ms/step - loss: 0.0317 - accuracy: 0.9894 - val_loss: 0.0751 - val_accuracy: 0.9840\n",
      "Epoch 54/100\n",
      "469/469 [==============================] - 3s 6ms/step - loss: 0.0298 - accuracy: 0.9905 - val_loss: 0.0739 - val_accuracy: 0.9827\n",
      "Epoch 55/100\n",
      "469/469 [==============================] - 3s 6ms/step - loss: 0.0297 - accuracy: 0.9904 - val_loss: 0.0839 - val_accuracy: 0.9839\n",
      "Epoch 56/100\n",
      "469/469 [==============================] - 3s 6ms/step - loss: 0.0296 - accuracy: 0.9908 - val_loss: 0.0837 - val_accuracy: 0.9825\n",
      "Epoch 57/100\n",
      "469/469 [==============================] - 3s 5ms/step - loss: 0.0307 - accuracy: 0.9902 - val_loss: 0.0776 - val_accuracy: 0.9845\n",
      "Epoch 58/100\n",
      "469/469 [==============================] - 2s 5ms/step - loss: 0.0324 - accuracy: 0.9900 - val_loss: 0.0805 - val_accuracy: 0.9838\n",
      "Epoch 59/100\n",
      "469/469 [==============================] - 3s 6ms/step - loss: 0.0291 - accuracy: 0.9908 - val_loss: 0.0761 - val_accuracy: 0.9847\n",
      "Epoch 60/100\n",
      "469/469 [==============================] - 3s 6ms/step - loss: 0.0288 - accuracy: 0.9907 - val_loss: 0.0819 - val_accuracy: 0.9839\n",
      "Epoch 61/100\n",
      "469/469 [==============================] - 4s 8ms/step - loss: 0.0286 - accuracy: 0.9913 - val_loss: 0.0791 - val_accuracy: 0.9835\n",
      "Epoch 62/100\n",
      "469/469 [==============================] - 3s 6ms/step - loss: 0.0294 - accuracy: 0.9906 - val_loss: 0.0848 - val_accuracy: 0.9841\n",
      "Epoch 63/100\n",
      "469/469 [==============================] - 3s 5ms/step - loss: 0.0295 - accuracy: 0.9906 - val_loss: 0.0798 - val_accuracy: 0.9836\n",
      "Epoch 64/100\n",
      "469/469 [==============================] - 3s 6ms/step - loss: 0.0324 - accuracy: 0.9900 - val_loss: 0.0817 - val_accuracy: 0.9836\n",
      "Epoch 65/100\n",
      "469/469 [==============================] - 2s 5ms/step - loss: 0.0299 - accuracy: 0.9907 - val_loss: 0.0738 - val_accuracy: 0.9845\n",
      "Epoch 66/100\n",
      "469/469 [==============================] - 2s 5ms/step - loss: 0.0283 - accuracy: 0.9909 - val_loss: 0.0787 - val_accuracy: 0.9849\n",
      "Epoch 67/100\n",
      "469/469 [==============================] - 2s 5ms/step - loss: 0.0282 - accuracy: 0.9910 - val_loss: 0.0818 - val_accuracy: 0.9839\n",
      "Epoch 68/100\n",
      "469/469 [==============================] - 3s 7ms/step - loss: 0.0277 - accuracy: 0.9911 - val_loss: 0.0820 - val_accuracy: 0.9839\n",
      "Epoch 69/100\n",
      "469/469 [==============================] - 3s 5ms/step - loss: 0.0288 - accuracy: 0.9908 - val_loss: 0.0808 - val_accuracy: 0.9836\n",
      "Epoch 70/100\n",
      "469/469 [==============================] - 3s 5ms/step - loss: 0.0291 - accuracy: 0.9909 - val_loss: 0.0753 - val_accuracy: 0.9851\n",
      "Epoch 71/100\n",
      "469/469 [==============================] - 3s 5ms/step - loss: 0.0303 - accuracy: 0.9906 - val_loss: 0.0829 - val_accuracy: 0.9832\n",
      "Epoch 72/100\n",
      "469/469 [==============================] - 2s 5ms/step - loss: 0.0281 - accuracy: 0.9908 - val_loss: 0.0771 - val_accuracy: 0.9848\n",
      "Epoch 73/100\n",
      "469/469 [==============================] - 3s 5ms/step - loss: 0.0301 - accuracy: 0.9905 - val_loss: 0.0733 - val_accuracy: 0.9845\n",
      "Epoch 74/100\n",
      "469/469 [==============================] - 2s 5ms/step - loss: 0.0281 - accuracy: 0.9908 - val_loss: 0.0789 - val_accuracy: 0.9837\n",
      "Epoch 75/100\n",
      "469/469 [==============================] - 2s 5ms/step - loss: 0.0281 - accuracy: 0.9913 - val_loss: 0.0809 - val_accuracy: 0.9832\n",
      "Epoch 76/100\n",
      "469/469 [==============================] - 2s 5ms/step - loss: 0.0255 - accuracy: 0.9917 - val_loss: 0.0777 - val_accuracy: 0.9838\n",
      "Epoch 77/100\n",
      "469/469 [==============================] - 3s 5ms/step - loss: 0.0264 - accuracy: 0.9913 - val_loss: 0.0790 - val_accuracy: 0.9840\n",
      "Epoch 78/100\n",
      "469/469 [==============================] - 3s 6ms/step - loss: 0.0239 - accuracy: 0.9918 - val_loss: 0.0806 - val_accuracy: 0.9830\n",
      "Epoch 79/100\n",
      "469/469 [==============================] - 3s 6ms/step - loss: 0.0265 - accuracy: 0.9922 - val_loss: 0.0788 - val_accuracy: 0.9843\n",
      "Epoch 80/100\n",
      "469/469 [==============================] - 2s 5ms/step - loss: 0.0261 - accuracy: 0.9919 - val_loss: 0.0832 - val_accuracy: 0.9837\n",
      "Epoch 81/100\n",
      "469/469 [==============================] - 2s 5ms/step - loss: 0.0267 - accuracy: 0.9916 - val_loss: 0.0857 - val_accuracy: 0.9830\n",
      "Epoch 82/100\n",
      "469/469 [==============================] - 2s 5ms/step - loss: 0.0257 - accuracy: 0.9920 - val_loss: 0.0866 - val_accuracy: 0.9835\n",
      "Epoch 83/100\n",
      "469/469 [==============================] - 2s 5ms/step - loss: 0.0254 - accuracy: 0.9921 - val_loss: 0.0821 - val_accuracy: 0.9854\n",
      "Epoch 84/100\n",
      "469/469 [==============================] - 3s 5ms/step - loss: 0.0238 - accuracy: 0.9924 - val_loss: 0.0853 - val_accuracy: 0.9824\n",
      "Epoch 85/100\n",
      "469/469 [==============================] - 2s 5ms/step - loss: 0.0277 - accuracy: 0.9910 - val_loss: 0.0844 - val_accuracy: 0.9832\n",
      "Epoch 86/100\n",
      "469/469 [==============================] - 2s 5ms/step - loss: 0.0252 - accuracy: 0.9919 - val_loss: 0.0843 - val_accuracy: 0.9840\n",
      "Epoch 87/100\n",
      "469/469 [==============================] - 3s 5ms/step - loss: 0.0268 - accuracy: 0.9919 - val_loss: 0.0823 - val_accuracy: 0.9841\n",
      "Epoch 88/100\n",
      "469/469 [==============================] - 3s 6ms/step - loss: 0.0248 - accuracy: 0.9919 - val_loss: 0.0839 - val_accuracy: 0.9842\n",
      "Epoch 89/100\n",
      "469/469 [==============================] - 2s 5ms/step - loss: 0.0262 - accuracy: 0.9915 - val_loss: 0.0869 - val_accuracy: 0.9830\n",
      "Epoch 90/100\n",
      "469/469 [==============================] - 3s 6ms/step - loss: 0.0261 - accuracy: 0.9917 - val_loss: 0.0882 - val_accuracy: 0.9840\n",
      "Epoch 91/100\n",
      "469/469 [==============================] - 3s 6ms/step - loss: 0.0246 - accuracy: 0.9917 - val_loss: 0.0935 - val_accuracy: 0.9835\n",
      "Epoch 92/100\n",
      "469/469 [==============================] - 2s 5ms/step - loss: 0.0245 - accuracy: 0.9923 - val_loss: 0.0856 - val_accuracy: 0.9840\n",
      "Epoch 93/100\n",
      "469/469 [==============================] - 3s 5ms/step - loss: 0.0239 - accuracy: 0.9925 - val_loss: 0.0898 - val_accuracy: 0.9839\n",
      "Epoch 94/100\n",
      "469/469 [==============================] - 3s 5ms/step - loss: 0.0247 - accuracy: 0.9920 - val_loss: 0.0813 - val_accuracy: 0.9839\n",
      "Epoch 95/100\n",
      "469/469 [==============================] - 2s 5ms/step - loss: 0.0239 - accuracy: 0.9926 - val_loss: 0.0911 - val_accuracy: 0.9839\n",
      "Epoch 96/100\n",
      "469/469 [==============================] - 3s 5ms/step - loss: 0.0248 - accuracy: 0.9921 - val_loss: 0.0808 - val_accuracy: 0.9837\n",
      "Epoch 97/100\n",
      "469/469 [==============================] - 3s 6ms/step - loss: 0.0261 - accuracy: 0.9917 - val_loss: 0.0808 - val_accuracy: 0.9833\n",
      "Epoch 98/100\n",
      "469/469 [==============================] - 2s 5ms/step - loss: 0.0251 - accuracy: 0.9926 - val_loss: 0.0931 - val_accuracy: 0.9843\n",
      "Epoch 99/100\n",
      "469/469 [==============================] - 2s 5ms/step - loss: 0.0236 - accuracy: 0.9924 - val_loss: 0.0849 - val_accuracy: 0.9830\n",
      "Epoch 100/100\n",
      "469/469 [==============================] - 3s 6ms/step - loss: 0.0251 - accuracy: 0.9920 - val_loss: 0.0902 - val_accuracy: 0.9838\n"
     ]
    }
   ],
   "source": [
    "history = model.fit(x_train, \n",
    "                    y_train, \n",
    "                    batch_size = batch_size, \n",
    "                    epochs = epochs, \n",
    "                    verbose = 1, \n",
    "                    validation_data=(x_test, y_test))"
   ]
  },
  {
   "cell_type": "markdown",
   "metadata": {
    "id": "H9KXGHog5nOB"
   },
   "source": [
    "## **Etape 4: EVALUATION DU MODELE**"
   ]
  },
  {
   "cell_type": "markdown",
   "metadata": {
    "id": "XuWVuzap57Ub"
   },
   "source": [
    "*-Calculer les valeurs loss et précision pour la base de test*"
   ]
  },
  {
   "cell_type": "code",
   "execution_count": 11,
   "metadata": {
    "colab": {
     "base_uri": "https://localhost:8080/"
    },
    "id": "zPkTBIKz5hKo",
    "outputId": "8f3c22b9-132a-4f84-a217-cdd4e08d378a"
   },
   "outputs": [
    {
     "name": "stdout",
     "output_type": "stream",
     "text": [
      "79/79 [==============================] - 0s 2ms/step - loss: 0.0902 - accuracy: 0.9838\n",
      "Test loss:  0.09023809432983398\n",
      "Test accuracy:  0.9837999939918518\n"
     ]
    }
   ],
   "source": [
    "score = model.evaluate(x_test, y_test, \n",
    "                    verbose = 1,\n",
    "                    batch_size = batch_size)\n",
    "\n",
    "print(\"Test loss: \", score[0])\n",
    "print(\"Test accuracy: \", score[1])"
   ]
  },
  {
   "cell_type": "markdown",
   "metadata": {
    "id": "_n6CPbdS5nvY"
   },
   "source": [
    "*-Construire la courbe d’accuracy en fonction du nombre d’époques*\n"
   ]
  },
  {
   "cell_type": "code",
   "execution_count": 12,
   "metadata": {
    "colab": {
     "base_uri": "https://localhost:8080/",
     "height": 295
    },
    "id": "NuhO_eit5hs5",
    "outputId": "a9275101-492a-4baa-e9c0-7598a0410e66"
   },
   "outputs": [
    {
     "data": {
      "text/plain": "<Figure size 432x288 with 1 Axes>",
      "image/png": "[encoded data removed]"
     },
     "metadata": {
      "needs_background": "light"
     },
     "output_type": "display_data"
    }
   ],
   "source": [
    "plt.plot(history.history['accuracy'])\n",
    "plt.plot(history.history['val_accuracy'])\n",
    "plt.title(\"model accuracy\")\n",
    "plt.ylabel(\"accuracy\")\n",
    "plt.xlabel(\"epoch\")\n",
    "plt.legend(['train', 'test'], loc=\"upper left\")\n",
    "plt.show()"
   ]
  },
  {
   "cell_type": "markdown",
   "metadata": {
    "id": "Q7W5JLlK5oIR"
   },
   "source": [
    "*-Construire la courbe loss en fonction du nombre d’époques*"
   ]
  },
  {
   "cell_type": "code",
   "execution_count": 13,
   "metadata": {
    "colab": {
     "base_uri": "https://localhost:8080/",
     "height": 295
    },
    "id": "GcfU12rz5l-5",
    "outputId": "673df06a-29a6-4155-c522-199c6bb86cc2"
   },
   "outputs": [
    {
     "data": {
      "text/plain": "<Figure size 432x288 with 1 Axes>",
      "image/png": "[encoded data removed]"
     },
     "metadata": {
      "needs_background": "light"
     },
     "output_type": "display_data"
    }
   ],
   "source": [
    "plt.plot(history.history['loss'])\n",
    "plt.plot(history.history['val_loss'])\n",
    "plt.title(\"model accuracy\")\n",
    "plt.ylabel(\"loss\")\n",
    "plt.xlabel(\"epoch\")\n",
    "plt.legend(['train', 'test'], loc=\"upper left\")\n",
    "plt.show()"
   ]
  }
 ],
 "metadata": {
  "colab": {
   "name": "TP3_IA.ipynb",
   "provenance": []
  },
  "kernelspec": {
   "display_name": "Python 3 (ipykernel)",
   "language": "python",
   "name": "python3"
  },
  "language_info": {
   "codemirror_mode": {
    "name": "ipython",
    "version": 3
   },
   "file_extension": ".py",
   "mimetype": "text/x-python",
   "name": "python",
   "nbconvert_exporter": "python",
   "pygments_lexer": "ipython3",
   "version": "3.8.12"
  }
 },
 "nbformat": 4,
 "nbformat_minor": 4
}